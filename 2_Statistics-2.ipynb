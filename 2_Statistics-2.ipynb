{
 "cells": [
  {
   "cell_type": "markdown",
   "id": "675cc5b4",
   "metadata": {},
   "source": [
    "Q1. What are the three measures of central tendency?"
   ]
  },
  {
   "cell_type": "markdown",
   "id": "136ae265",
   "metadata": {},
   "source": [
    "### Mean:\n",
    "The mean, also known as the average, is calculated by adding up all the values in a dataset and then dividing by the number of values. It represents the arithmetic \"average\" of the data.\n",
    "\n",
    "### Median:\n",
    "The median is the middle value in a dataset when the values are arranged in ascending or descending order. If there is an even number of values, the median is the average of the two middle values.\n",
    "\n",
    "### Mode:\n",
    "The mode is the value or values that occur most frequently in a dataset. A dataset can have one mode (unimodal), more than one mode (multimodal), or no mode if all values are equally frequent."
   ]
  },
  {
   "cell_type": "code",
   "execution_count": null,
   "id": "074ceb57",
   "metadata": {},
   "outputs": [],
   "source": []
  },
  {
   "cell_type": "markdown",
   "id": "ce0e0ccd",
   "metadata": {},
   "source": [
    "Q2. What is the difference between the mean, median, and mode? How are they used to measure the \n",
    "central tendency of a dataset?"
   ]
  },
  {
   "cell_type": "markdown",
   "id": "514d6bcd",
   "metadata": {},
   "source": [
    "## Measures of Central Tendency:\n",
    "\n",
    "##### Mean (Average):\n",
    "* The mean is the sum of all values in a dataset divided by the number of values.\n",
    "* Mean = (Sum of all values) / (Number of values)\n",
    "* Use: It represents the central or typical value in a dataset. The mean is sensitive to extreme values (outliers).\n",
    "\n",
    "##### Median:\n",
    "* The median is the middle value when the data is sorted. If there is an even number of values, it's the average of the two middle values.\n",
    "* Median = Middle value (or average of two middle values)\n",
    "* Use: It represents the middle value and is less affected by extreme values than the mean. It's often used when data is skewed.\n",
    "\n",
    "##### Mode:\n",
    "* The mode is the most frequently occurring value(s) in a dataset.\n",
    "* Median = Middle value (or average of two middle values)\n",
    "* Use: It represents the most common value(s) and is used for categorical or discrete data. A dataset can have one mode (unimodal), more than one mode (multimodal), or no mode.\n",
    "\n",
    "## How they Measure of Central Tendency:\n",
    "\n",
    "Mean: The mean measures central tendency by balancing all values equally. It gives equal weight to each data point and is suitable for symmetric distributions with no outliers.\n",
    "\n",
    "Median: The median measures central tendency by identifying the middle value. It's particularly useful when the data is skewed or contains outliers, as it is not influenced by extreme values.\n",
    "\n",
    "Mode: The mode measures central tendency by identifying the most frequently occurring value(s). It's used for data with distinct categories and helps identify the most common observation(s)."
   ]
  },
  {
   "cell_type": "code",
   "execution_count": null,
   "id": "65bdd70b",
   "metadata": {},
   "outputs": [],
   "source": []
  },
  {
   "cell_type": "markdown",
   "id": "894b685c",
   "metadata": {},
   "source": [
    "Q3. Measure the three measures of central tendency for the given height data:\n",
    "\n",
    " [178,177,176,177,178.2,178,175,179,180,175,178.9,176.2,177,172.5,178,176.5]"
   ]
  },
  {
   "cell_type": "code",
   "execution_count": 1,
   "id": "1239d7d0",
   "metadata": {},
   "outputs": [
    {
     "name": "stdout",
     "output_type": "stream",
     "text": [
      "Mean of this Data is:  177.01875\n",
      "Median of this Data is:  177.0\n",
      "Mode of this Data is:  178\n"
     ]
    }
   ],
   "source": [
    "data = [178,177,176,177,178.2,178,175,179,180,175,178.9,176.2,177,172.5,178,176.5]\n",
    "\n",
    "import numpy as np\n",
    "import statistics as st # Mode is not available in numpy\n",
    "\n",
    "mean = np.mean(data)\n",
    "median = np.median(data)\n",
    "mode = st.mode(data)\n",
    "\n",
    "print(\"Mean of this Data is: \", mean)\n",
    "print(\"Median of this Data is: \", median)\n",
    "print(\"Mode of this Data is: \", mode)"
   ]
  },
  {
   "cell_type": "code",
   "execution_count": null,
   "id": "69ba8e59",
   "metadata": {},
   "outputs": [],
   "source": []
  },
  {
   "cell_type": "markdown",
   "id": "aed10f9b",
   "metadata": {},
   "source": [
    "Q4. Find the standard deviation for the given data:\n",
    "\n",
    "[178,177,176,177,178.2,178,175,179,180,175,178.9,176.2,177,172.5,178,176.5]"
   ]
  },
  {
   "cell_type": "code",
   "execution_count": 4,
   "id": "6e6f8841",
   "metadata": {},
   "outputs": [
    {
     "name": "stdout",
     "output_type": "stream",
     "text": [
      "Standard Deviation of above data is:  1.7885814036548633\n"
     ]
    }
   ],
   "source": [
    "# Same values in above data\n",
    "\n",
    "#By using inbuilt libraries we can find\n",
    "std = np.std(data)\n",
    "print(\"Standard Deviation of above data is: \", std)"
   ]
  },
  {
   "cell_type": "code",
   "execution_count": null,
   "id": "bedec10c",
   "metadata": {},
   "outputs": [],
   "source": []
  },
  {
   "cell_type": "markdown",
   "id": "174664b3",
   "metadata": {},
   "source": [
    "Q5. How are measures of dispersion such as range, variance, and standard deviation used to describe \n",
    "the spread of a dataset? Provide an example."
   ]
  },
  {
   "cell_type": "markdown",
   "id": "ded16e76",
   "metadata": {},
   "source": [
    "They provide information about how data points are distributed and how they deviate from the central tendency measures like the mean or median. \n",
    " \n",
    "## Range:\n",
    "The range is the simplest measure of dispersion. It quantifies the spread of data by calculating the difference between the maximum and minimum values in the dataset.\n",
    "* Formula: Range = Maximum Value - Minimum Value\n",
    "* Use: It provides a basic understanding of the overall spread of data but is sensitive to outliers.\n",
    "* Example: Consider a dataset of daily temperatures (in degrees Fahrenheit) for a city over a month: [68, 72, 73, 66, 85, 79, 64]. The range would be 85 - 64 = 21 degrees, indicating a range of temperatures observed during the month.\n",
    "\n",
    "## Variance:\n",
    "Variance quantifies how data points deviate from the mean by calculating the average of the squared differences between each data point and the mean.\n",
    "* Formula: Variance = Σ((X - μ)^2) / N, where X is each data point, μ is the mean, and N is the number of data points.\n",
    "* Use: It provides a more precise measure of data spread, but it is sensitive to outliers.\n",
    "* Example: Using the same temperature dataset, the variance would be calculated as (σ^2) = [(68-72)^2 + (72-72)^2 + ... + (64-72)^2] / 7, where σ^2 is the variance. The result quantifies how much temperatures deviate from the mean.\n",
    "    \n",
    "## Standard Deviation:\n",
    "The standard deviation is the square root of the variance. It provides a measure of the average deviation of data points from the mean.\n",
    "* Formula: Standard Deviation (σ) = √Variance\n",
    "* Use: It is commonly used because it is in the same unit as the data, and it quantifies data spread while being sensitive to outliers.\n",
    "* Example: Continuing with the temperature dataset, the standard deviation would be the square root of the previously calculated variance, providing a single number that describes the typical deviation of temperatures from the mean."
   ]
  },
  {
   "cell_type": "code",
   "execution_count": null,
   "id": "827e0e7d",
   "metadata": {},
   "outputs": [],
   "source": []
  },
  {
   "cell_type": "markdown",
   "id": "c76d2da4",
   "metadata": {},
   "source": [
    "Q6. What is a Venn diagram?"
   ]
  },
  {
   "cell_type": "markdown",
   "id": "2ff9fbe4",
   "metadata": {},
   "source": [
    "* A Venn diagram is a visual representation used to depict the relationships between different sets or groups. \n",
    "* It consists of overlapping circles or ellipses, each representing a set, and the overlapping regions represent the intersections or common elements between the sets. \n",
    "* Venn diagrams are commonly used in mathematics, logic, statistics, and various fields."
   ]
  },
  {
   "cell_type": "code",
   "execution_count": null,
   "id": "50c7c112",
   "metadata": {},
   "outputs": [],
   "source": []
  },
  {
   "cell_type": "markdown",
   "id": "42e9ad96",
   "metadata": {},
   "source": [
    "Q7. For the two given sets A = (2,3,4,5,6,7) & B = (0,2,6,8,10). Find:\n",
    "\n",
    "(i) \tA N B\n",
    "\n",
    "(ii)\tA ⋃ B"
   ]
  },
  {
   "cell_type": "markdown",
   "id": "9cdbd80c",
   "metadata": {},
   "source": [
    "1) A intersection B : {2,6}\n",
    "2) A union B : {0, 2,3,4,5,6,7,8,10}"
   ]
  },
  {
   "cell_type": "code",
   "execution_count": null,
   "id": "83e202e8",
   "metadata": {},
   "outputs": [],
   "source": []
  },
  {
   "cell_type": "markdown",
   "id": "4f53866c",
   "metadata": {},
   "source": [
    "Q8. What do you understand about skewness in data?"
   ]
  },
  {
   "cell_type": "markdown",
   "id": "6754b2e8",
   "metadata": {},
   "source": [
    "Skewness in data is a statistical measure that describes the asymmetry or lack of symmetry in the distribution of values within a dataset. It provides insights into the shape of the data distribution,\n",
    "* Negatively Skewed (Left Skewed)\n",
    "* Positively Skewed (Right Skewed)\n",
    "* Symmetrical Distribution (Zero Skewness)"
   ]
  },
  {
   "cell_type": "code",
   "execution_count": null,
   "id": "abcdd55c",
   "metadata": {},
   "outputs": [],
   "source": []
  },
  {
   "cell_type": "markdown",
   "id": "96c97742",
   "metadata": {},
   "source": [
    "Q9. If a data is right skewed then what will be the position of median with respect to mean?"
   ]
  },
  {
   "cell_type": "markdown",
   "id": "f39f0292",
   "metadata": {},
   "source": [
    "The median will be less than the mean.\n",
    "* In a right-skewed distribution, the tail on the right side (the higher values) is longer or fatter, which means that there are some extremely high values that pull the mean in that direction. "
   ]
  },
  {
   "cell_type": "code",
   "execution_count": null,
   "id": "aad78ab6",
   "metadata": {},
   "outputs": [],
   "source": []
  },
  {
   "cell_type": "markdown",
   "id": "eb1aa641",
   "metadata": {},
   "source": [
    "Q10. Explain the difference between covariance and correlation. How are these measures used in \n",
    "statistical analysis"
   ]
  },
  {
   "cell_type": "markdown",
   "id": "f420d944",
   "metadata": {},
   "source": [
    "## Covariance and correlation:\n",
    "are both measures used to describe the relationship between two variables in statistics, particularly in the context of multivariate data analysis. However, they have distinct characteristics and purposes:\n",
    "\n",
    "#### Covariance\t\n",
    "* Covariance is a measure to indicate the extent to which two random variables change in tandem.\t\n",
    "* Covariance is nothing but a measure of correlation.\t\n",
    "* Covariance indicates the direction of the linear relationship between variables.\t\n",
    "* Covariance can vary between -∞ and +∞\t\n",
    "* Covariance assumes the units from the product of the units of the two variables.\t\n",
    "* Covariance is zero in case of independent variables (if one variable moves and the other doesn’t) because then the variables do not necessarily move together.\n",
    "\n",
    "#### Correlation\n",
    "* Correlation is a measure used to represent how strongly two random variables are related to each other.\n",
    "* Correlation refers to the scaled form of covariance.\n",
    "* Correlation on the other hand measures both the strength and direction of the linear relationship between two variables.\n",
    "* Correlation ranges between -1 and +1\n",
    "* Correlation is dimensionless, i.e. It’s a unit-free measure of the relationship between variables.\n",
    "* Independent movements do not contribute to the total correlation. Therefore, completely independent variables have a zero correlation.\n",
    "\n",
    "## Usage in Statistical Analysis:\n",
    "\n",
    "Covariance: Covariance is primarily used to understand the direction of the linear relationship between two variables. However, its unstandardized nature makes it less suitable for comparing relationships across different datasets or variables with different units of measurement.\n",
    "\n",
    "Correlation: Correlation is widely used in statistical analysis because of its standardized and interpretable nature. It helps assess the strength and direction of linear relationships and allows for comparisons across different datasets and variables. Common correlation coefficients include Pearson's correlation coefficient (for linear relationships), Spearman's rank correlation coefficient (for monotonic relationships), and others."
   ]
  },
  {
   "cell_type": "code",
   "execution_count": null,
   "id": "eb0d69aa",
   "metadata": {},
   "outputs": [],
   "source": []
  },
  {
   "cell_type": "markdown",
   "id": "a023ab83",
   "metadata": {},
   "source": [
    "Q11. What is the formula for calculating the sample mean? Provide an example calculation for a dataset"
   ]
  },
  {
   "cell_type": "markdown",
   "id": "9d75ae05",
   "metadata": {},
   "source": [
    "Sample Mean (X̄) = ΣX / N"
   ]
  },
  {
   "cell_type": "code",
   "execution_count": 7,
   "id": "200aac9c",
   "metadata": {},
   "outputs": [
    {
     "data": {
      "text/plain": [
       "86.9"
      ]
     },
     "execution_count": 7,
     "metadata": {},
     "output_type": "execute_result"
    }
   ],
   "source": [
    "Data =  [85, 92, 78, 88, 95, 89, 76, 90, 82, 94]\n",
    "# ΣX = 85 + 92 + 78 + 88 + 95 + 89 + 76 + 90 + 82 + 94 = 869\n",
    "#N =10\n",
    "\n",
    "#X̄ = ΣX / N = 879 / 10 = 86.9\n",
    "np.mean(Data)"
   ]
  },
  {
   "cell_type": "code",
   "execution_count": null,
   "id": "29897baf",
   "metadata": {},
   "outputs": [],
   "source": []
  },
  {
   "cell_type": "markdown",
   "id": "c2239235",
   "metadata": {},
   "source": [
    "Q12. For a normal distribution data what is the relationship between its measure of central tendency"
   ]
  },
  {
   "cell_type": "markdown",
   "id": "d2b2cdaa",
   "metadata": {},
   "source": [
    "In a normal distribution (also known as a Gaussian distribution or bell curve), there is a specific relationship between its measures of central tendency, which include the mean, median, and mode. \n",
    "\n",
    "Mean (Average): In a normal distribution, the mean is located exactly at the center of the distribution. This means that the mean is equal to the median and the mode.\n",
    "\n",
    "Median: The median in a normal distribution is also located at the center of the distribution, just like the mean. Therefore, the median is equal to the mean and the mode.\n",
    "\n",
    "Mode: In a normal distribution, the mode is the same as the mean and the median, and they all coincide at the peak or center of the distribution.\n",
    "\n",
    "In Short for a normal distribution:\n",
    "\n",
    "Mean = Median = Mode\n",
    "This relationship is a fundamental property of the normal distribution and is a result of its symmetric and bell-shaped nature. It means that the central tendency measures are all equal and located at the same point in the distribution, making them useful for describing the typical or central value in normally distributed data."
   ]
  },
  {
   "cell_type": "code",
   "execution_count": null,
   "id": "cc0248be",
   "metadata": {},
   "outputs": [],
   "source": []
  },
  {
   "cell_type": "markdown",
   "id": "a031b50b",
   "metadata": {},
   "source": [
    "Q13. How is covariance different from correlation?"
   ]
  },
  {
   "cell_type": "markdown",
   "id": "76755531",
   "metadata": {},
   "source": [
    "### Definition:\n",
    "\n",
    "Covariance: Covariance measures the degree to which two variables change together. It indicates the direction of the linear relationship between the variables, whether they move in the same direction (positive covariance) or in opposite directions (negative covariance).\n",
    "Correlation: Correlation is a standardized measure of the strength and direction of the linear relationship between two variables. It quantifies the degree to which the variables are related and scales the relationship to a range between -1 and 1.\n",
    "\n",
    "### Range:\n",
    "\n",
    "Covariance: Covariance can take any real value, which makes it challenging to interpret its magnitude. It depends on the units of the variables.\n",
    "Correlation: Correlation values range from -1 to 1. A correlation of 1 indicates a perfect positive linear relationship, -1 indicates a perfect negative linear relationship, and 0 indicates no linear relationship.\n",
    "\n",
    "### Unit of Measurement:\n",
    "Covariance: The unit of covariance is the product of the units of the two variables (e.g., square units if both variables are in square units).\n",
    "Correlation: Correlation is a unitless measure, making it easier to compare relationships across different datasets or variables with different units.\n",
    "\n",
    "### Standardization:\n",
    "\n",
    "Covariance: Covariance is not standardized, so its magnitude can vary widely depending on the scale of the variables. This makes it difficult to compare covariances between different datasets.\n",
    "Correlation: Correlation is standardized, making it suitable for comparing relationships across different datasets. It provides a consistent measure of the strength and direction of the linear relationship.\n",
    "\n",
    "### Interpretation:\n",
    "\n",
    "Covariance: A positive covariance indicates a positive relationship, and a negative covariance indicates a negative relationship. However, the magnitude of covariance is not easily interpretable in isolation.\n",
    "Correlation: Correlation is easier to interpret because it provides a standardized measure. Positive correlation values indicate a positive linear relationship, negative values indicate a negative linear relationship, and the magnitude indicates the strength of the relationship.\n",
    "\n",
    "In short while both covariance and correlation describe relationships between variables, correlation is more widely used in statistics and data analysis because it provides a standardized and interpretable measure of the strength and direction of the linear relationship, making it easier to compare and draw conclusions from different datasets. Covariance, on the other hand, is useful for understanding the direction of the relationship but lacks standardization for easy comparison."
   ]
  },
  {
   "cell_type": "code",
   "execution_count": null,
   "id": "e217931b",
   "metadata": {},
   "outputs": [],
   "source": []
  },
  {
   "cell_type": "markdown",
   "id": "2a65d404",
   "metadata": {},
   "source": [
    "Q14. How do outliers affect measures of central tendency and dispersion? Provide an example"
   ]
  },
  {
   "cell_type": "markdown",
   "id": "fbf2b4ea",
   "metadata": {},
   "source": [
    "Outliers can significantly impact measures of central tendency (e.g., mean, median, mode) and measures of dispersion (e.g., range, variance, standard deviation) in a dataset.\n",
    "\n",
    "## Measures of Central Tendency:\n",
    "\n",
    "##### Mean:\n",
    "Outliers can have a substantial effect on the mean because the mean is calculated by summing all values and dividing by the number of values. If there are extreme outliers, they can pull the mean toward their values. For positively skewed data, where there is a high outlier, the mean will be higher than expected. Conversely, for negatively skewed data, where there is a low outlier, the mean will be lower than expected.\n",
    "\n",
    "##### Median:\n",
    "The median is less affected by outliers because it is the middle value when data is sorted. Outliers do not impact the position of the median in the dataset. In cases where there are outliers, the median may provide a better representation of the central value.\n",
    "\n",
    "##### Mode:\n",
    "The mode represents the most frequently occurring value(s) and is less influenced by outliers, especially if the outliers are isolated cases.\n",
    "\n",
    "## Measures of Dispersion:\n",
    "\n",
    "##### Range:\n",
    "Outliers can significantly affect the range because the range is calculated as the difference between the maximum and minimum values. Even a single extreme outlier can widen the range substantially.\n",
    "\n",
    "##### Variance and Standard Deviation:\n",
    "Outliers can increase the variance and standard deviation because these measures take into account the squared differences between each data point and the mean. Outliers tend to have larger squared differences, increasing the overall variability in the dataset.\n",
    "\n"
   ]
  },
  {
   "cell_type": "code",
   "execution_count": 8,
   "id": "5ff086a5",
   "metadata": {},
   "outputs": [
    {
     "name": "stdout",
     "output_type": "stream",
     "text": [
      "Mean Without Outlier:  34.125\n",
      "Median Without Outlier  32.5\n"
     ]
    }
   ],
   "source": [
    "Data2 =  [20, 25, 28, 30, 35, 40, 45, 50] # With out outlier\n",
    "\n",
    "Without_Outlier_mean = np.mean(Data2)\n",
    "Without_Outlier_median = np.median(Data2)\n",
    "\n",
    "print(\"Mean Without Outlier: \", Without_Outlier_mean)\n",
    "print(\"Median Without Outlier \", Without_Outlier_median)"
   ]
  },
  {
   "cell_type": "code",
   "execution_count": 9,
   "id": "4e757051",
   "metadata": {},
   "outputs": [
    {
     "name": "stdout",
     "output_type": "stream",
     "text": [
      "Mean With Outlier:  130.33333333333334\n",
      "Median With Outlier  35.0\n"
     ]
    }
   ],
   "source": [
    "Data2 =  [20, 25, 28, 30, 35, 40, 45, 50, 900] # With outlier\n",
    "\n",
    "With_Outlier_mean = np.mean(Data2)\n",
    "With_Outlier_median = np.median(Data2)\n",
    "\n",
    "print(\"Mean With Outlier: \", With_Outlier_mean)\n",
    "print(\"Median With Outlier \", With_Outlier_median)"
   ]
  },
  {
   "cell_type": "code",
   "execution_count": null,
   "id": "c2434e02",
   "metadata": {},
   "outputs": [],
   "source": [
    "#From above Mean is Highly increased, "
   ]
  },
  {
   "cell_type": "code",
   "execution_count": null,
   "id": "7580103b",
   "metadata": {},
   "outputs": [],
   "source": []
  }
 ],
 "metadata": {
  "kernelspec": {
   "display_name": "Python 3 (ipykernel)",
   "language": "python",
   "name": "python3"
  },
  "language_info": {
   "codemirror_mode": {
    "name": "ipython",
    "version": 3
   },
   "file_extension": ".py",
   "mimetype": "text/x-python",
   "name": "python",
   "nbconvert_exporter": "python",
   "pygments_lexer": "ipython3",
   "version": "3.11.4"
  }
 },
 "nbformat": 4,
 "nbformat_minor": 5
}
